{
 "cells": [
  {
   "cell_type": "code",
   "execution_count": 1,
   "metadata": {
    "ExecuteTime": {
     "end_time": "2020-03-02T13:03:31.324625Z",
     "start_time": "2020-03-02T13:03:31.311666Z"
    }
   },
   "outputs": [
    {
     "name": "stdout",
     "output_type": "stream",
     "text": [
      "/Users/mcortes/Documents/projects/cmm-bio/caidos/Markopy/mocbapy/mocbapy\n"
     ]
    }
   ],
   "source": [
    "%cd /Users/mcortes/Documents/projects/cmm-bio/caidos/Markopy/mocbapy/mocbapy"
   ]
  },
  {
   "cell_type": "code",
   "execution_count": 2,
   "metadata": {
    "ExecuteTime": {
     "end_time": "2020-03-02T13:03:34.971319Z",
     "start_time": "2020-03-02T13:03:32.121873Z"
    }
   },
   "outputs": [],
   "source": [
    "import cobra.test\n",
    "import mocbapy\n",
    "import numpy as np\n",
    "import matplotlib\n",
    "import matplotlib.pyplot as plt\n",
    "from matplotlib.path import Path\n",
    "import pandas as pd\n",
    "from scipy.sparse import lil_matrix"
   ]
  },
  {
   "cell_type": "markdown",
   "metadata": {},
   "source": [
    "# Ecosystem class"
   ]
  },
  {
   "cell_type": "code",
   "execution_count": 59,
   "metadata": {
    "ExecuteTime": {
     "end_time": "2020-03-03T21:16:27.335598Z",
     "start_time": "2020-03-03T21:16:27.206072Z"
    },
    "code_folding": [
     14,
     89,
     118,
     124,
     176,
     250,
     274,
     322,
     327,
     365,
     369,
     420,
     424,
     460,
     467
    ]
   },
   "outputs": [],
   "source": [
    "import cobra\n",
    "import numpy as np\n",
    "\n",
    "from cobra import Metabolite, Reaction, Model\n",
    "from cobra.util.array import create_stoichiometric_matrix\n",
    "from cobra.util.solver import linear_reaction_coefficients\n",
    "from benpy import vlpProblem\n",
    "from benpy import solve as bensolve\n",
    "from scipy.sparse import lil_matrix\n",
    "from scipy.spatial import Delaunay\n",
    "from functools import reduce\n",
    "\n",
    "class Ecosystem:\n",
    "\n",
    "    def __init__(self, models, prefixes, community_name = \"My community model\", community_id= \"community\",\n",
    "                 pool_bounds = (-1000,1000), keep_members=True, print_report = True):\n",
    "        self.models = [m.copy() for m in models]\n",
    "        self.size = len(models)\n",
    "        self.name = community_name\n",
    "        self.prefixes = prefixes\n",
    "        self.conflicts = None\n",
    "        self.cmodel = None\n",
    "        \n",
    "        # --- step 1 ---\n",
    "        # Change rxn & met ids and compartments of member models to prefixes[i]:id, prefixes[i]:compartment\n",
    "        #\n",
    "        #  ex_mets: prefixes[i]:mex.id -> mex.id, where mex is a exchange metabolite in model i.    \n",
    "        ex_mets = dict()\n",
    "        for member_index in range(self.size):\n",
    "            i_ex_mets = self._rename_member_model(member_index)\n",
    "            ex_mets.update(i_ex_mets) \n",
    "        self.ex_mets = ex_mets\n",
    "        \n",
    "        # --- step 2 ---\n",
    "        # 2.1 Store member models original objectives {rxn: coef}\n",
    "        # 2.2 Store member models exchange reactions and their original bounds.\n",
    "        self.objectives = dict()\n",
    "        self.member_exchanges = list()\n",
    "        for ix, m in enumerate(self.models):\n",
    "            #2.1 objectives\n",
    "            member_lr_coefs =  linear_reaction_coefficients(m)\n",
    "            if len(member_lr_coefs) != 1:\n",
    "                raise RuntimeError(\"More than one reaction in %s objective function. Not supported!!Set single objective reaction\" \n",
    "                      % self.prefixes[ix])                \n",
    "            member_objectives = { r.id:coeff for r,coeff in member_lr_coefs.items()} # should be single key,value dict   \n",
    "            self.objectives.append(member_objectives)\n",
    "            #2.2 exchange reactions\n",
    "            exchanges = dict()\n",
    "            for r in m.exchanges:\n",
    "                exchanges[r.id] = r.bounds\n",
    "            self.member_exchanges.append(exchanges)            \n",
    "        \n",
    "        # --- step 3 ---\n",
    "        # Create new cobrapy Model for the community by merging member models\n",
    "        cmodel = Model(id_or_model = community_id, name=community_name)\n",
    "        for m in self.models:\n",
    "            cmodel.merge(m)\n",
    "            \n",
    "        # --- step 4 ---\n",
    "        # Store community model.\n",
    "        self.cmodel = cmodel       \n",
    " \n",
    "        # --- step 5 ---\n",
    "        # Add pool to community model (including compartment, shared pool mets, pool exchanges\n",
    "        #                              and update of member exchange reactions)\n",
    "        # By default pool exchanges are set with bounds (-1000,1000). \n",
    "        # Exchange metabolites with same id but different formulas, charges or names among members are stored\n",
    "        # in self.conflicts along with these values.\n",
    "        \n",
    "        self._add_pool(pool_bounds)\n",
    "        \n",
    "        # --- step 6 ----\n",
    "        # Add compartment names. They get lost during merge (step 3)\n",
    "        ccomps = self.cmodel.compartments\n",
    "        for m in self.models:\n",
    "            for comp in m.compartments:\n",
    "                ccomps[comp] = m.compartments[comp]\n",
    "        self.cmodel.compartments = ccomps\n",
    "        \n",
    "        self.cmodel.repair()\n",
    "        # --- optional steps ----\n",
    "        \n",
    "        # Print summary report if print_report\n",
    "        if print_report:\n",
    "            self.print_build_report(pool_bounds)\n",
    "        # Member models are kept unless keep_members is False:\n",
    "        if not keep_members:\n",
    "            self.clean_members()    \n",
    "    \n",
    "    def print_build_report(self, pool_bounds):\n",
    "        \"\"\" Prints community construction report \"\"\"\n",
    "        models = self.models\n",
    "        cmodel = self.cmodel\n",
    "        prefixes = self.prefixes\n",
    "        print(\"Created community model from %d member models:\" % self.size)               \n",
    " \n",
    "        print(\"General stats:\")\n",
    "        if models is not None:\n",
    "            for i in range(self.size):\n",
    "                print(\"model (%d):\" % i) \n",
    "                print( \"\\t id = %s, name = %s , prefix= %s\" % (models[i].id,models[i].name, prefixes[i]))\n",
    "                rxns = len(models[i].reactions)\n",
    "                comps = len(models[i].compartments)\n",
    "                mex = 0\n",
    "                for mid in self.ex_mets:\n",
    "                    if mid.startswith(prefixes[i]):\n",
    "                        mex +=1\n",
    "                print( \"\\t\\t reactions = %d\" % rxns)\n",
    "                print( \"\\t\\t exchange metabolites = %d\" % mex)\n",
    "                print( \"\\t\\t compartments = %d\" % comps)\n",
    "        print(\"community model:\")\n",
    "        print( \"\\t id = %s, name = %s \" % (cmodel.id, cmodel.name))\n",
    "        print( \"\\t\\t reactions = %d\" % len(cmodel.reactions))\n",
    "        print( \"\\t\\t exchange metabolites = %d\" % len(self.pool_mets))\n",
    "        print( \"\\t\\t compartments = %d\" % len(cmodel.compartments))        \n",
    "        print(\"Exchange metabolite conflicts (formula, charge, name, id) = %d\" % len(self.conflicts))   \n",
    "        print(\"Community exchange reaction bounds: %s\" % str(pool_bounds))\n",
    "    \n",
    "    def clean_members(self):\n",
    "        \"\"\" Deletes member individual models\"\"\"\n",
    "        members = self.models\n",
    "        self.models = None\n",
    "        del members\n",
    "        \n",
    "    def _rename_member_model(self, member_index):\n",
    "        \"\"\" Updates a member model by renaming its metabolite and reaction ids and also \n",
    "            its compartment names and ids. \n",
    "            The corresponding community member prefixes are used:\n",
    "                original_rxn_id --> member_prefix:original_rxn_id\n",
    "                original_met_id --> member_prefix:original_met_id\n",
    "                original_compartment_id --> member_prefix:original_compartment_id\n",
    "                original_compartment_name --> member_prefix original_compartment_name\n",
    "\n",
    "            member_index: index of member model in self.models list. \n",
    "                    Draft community model corresponding to a merge of individual models \n",
    "                    (with translated ids).\n",
    "            ex_mets: dictionary \n",
    "                     keys: translated exchange metabolite ids (e.g. model1:glyc_e, model2:glyc_e).\n",
    "                     values: original exchange metabolite ids (e.g. glyc_e, glyc_e)\n",
    "\n",
    "            Returns:       \n",
    "            exchange_mets : dict\n",
    "                                keys: translated ids of exchange metabolites in member model\n",
    "                                values: original ids of exchange metabolites in member model            \n",
    "        \"\"\"        \n",
    "        \n",
    "        model = self.models[member_index]\n",
    "        model_prefix = self.prefixes[member_index]\n",
    "        comp_dict = dict()\n",
    "        exchange_mets = dict()\n",
    "        \n",
    "        # Building exchange metabolites dictionary of translated to original ids\n",
    "        for rex in model.exchanges:\n",
    "            for mex in rex.metabolites:\n",
    "                new_mex_id = \"%s:%s\" % (model_prefix,mex.id)            \n",
    "                exchange_mets[new_mex_id]= mex.id\n",
    "\n",
    "        # Updating metabolite ids        \n",
    "        for m in model.metabolites:\n",
    "            mid = \"%s:%s\" % (model_prefix,m.id)\n",
    "            m.id = mid\n",
    "            mcomp = \"%s:%s\" % (model_prefix,m.compartment)\n",
    "            if mcomp not in comp_dict:\n",
    "                comp_dict[mcomp]= \"%s %s\"   % (model_prefix, model.compartments[m.compartment])\n",
    "            m.compartment = mcomp\n",
    "        model.repair()    \n",
    "        model.compartments = comp_dict\n",
    "\n",
    "        #Updating reaction ids\n",
    "        for rxn in model.reactions:\n",
    "            rid = \"%s:%s\" % (model_prefix,rxn.id)\n",
    "            rxn.id = rid\n",
    "        model.repair()\n",
    "\n",
    "        return exchange_mets\n",
    "\n",
    "    def _build_pool_metabolites(self):\n",
    "        \"\"\" Builds community pool metabolites by getting metabolites names, formulas and charges from \n",
    "            individual models. Conflicts where more than one value for either metabolite \n",
    "            formula, charge or name are found are stored and returned.\n",
    "            A list of Metabolite objects for pool metabolites is generated.\n",
    "\n",
    "            self.cmodel: cobra.Model \n",
    "                    Draft community model corresponding to a merge of individual models \n",
    "                    (with translated ids).\n",
    "            self.ex_mets: dictionary \n",
    "                     keys: translated exchange metabolite ids (e.g. model1:glyc_e, model2:glyc_e).\n",
    "                     values: original exchange metabolite ids (e.g. glyc_e, glyc_e)\n",
    "\n",
    "            Returns:   \n",
    "\n",
    "            pool_mets: list\n",
    "                       Elements of pool_mets are cobra.Metabolite object for each pool metabolite.    \n",
    "            balance_conflicts : dict\n",
    "                                keys: pool metabolites ids of pool metabolites with different \n",
    "                                formula,charge or name values.\n",
    "                                values: dict with formula, charge and name lists.            \n",
    "        \"\"\"\n",
    "\n",
    "        cmodel =self.cmodel\n",
    "        ex_mets = self.ex_mets\n",
    "        \n",
    "        pool_mets = []\n",
    "        balance_conflicts = dict()\n",
    "\n",
    "        # Pool exchange metabolites original ids in community member models:\n",
    "        ex_original_ids = set(ex_mets.values())\n",
    "\n",
    "        # dictionary to store formulas, charges and names for each exchange metabolite:     \n",
    "        ex_metadata = {mid: {\"formulas\":set(), \"charges\":set(),\"names\":set()} for mid in ex_original_ids} \n",
    "\n",
    "        for ex_new, ex_original in ex_mets.items():\n",
    "            \n",
    "            m = cmodel.metabolites.get_by_id(ex_new)\n",
    "                        \n",
    "            ex_metadata[ex_original][\"formulas\"].add(m.formula)\n",
    "            ex_metadata[ex_original][\"charges\"].add(m.charge)\n",
    "            ex_metadata[ex_original][\"names\"].add(m.name) \n",
    "            \n",
    "\n",
    "        # Checking if each exchange metabolites has one or more value por formula, charge, or name: \n",
    "        for ex_original,ex_data in ex_metadata.items():    \n",
    "            formulas =  ex_data['formulas']\n",
    "            charges  =  ex_data['charges']\n",
    "            names    =  ex_data['names']\n",
    "\n",
    "            if len(formulas)!=1 or len(charges) != 1 or len(names) != 1:\n",
    "                balance_conflicts[ex_original] = ex_data \n",
    "                print(\"Conflicts for exchange metabolite %s:\" % ex_original)\n",
    "                print(\"Formulas:\")\n",
    "                print(formulas)\n",
    "                print(\"Charges:\")\n",
    "                print(charges)\n",
    "                print(\"Names:\")\n",
    "                print(names)\n",
    "                print(\"----------\")\n",
    "\n",
    "\n",
    "            # Setting id, formula,charge and name for new pool metabolite\n",
    "            eid = \"%s:pool\" % ex_original\n",
    "            eformula = \"X\"  if len(formulas)== 0 else formulas.pop()\n",
    "            echarge = \"0\"  if len(charges)== 0 else charges.pop()\n",
    "            ename = ex_original if len(names)== 0 else names.pop()\n",
    "\n",
    "            # pool metabolite Metabolite object\n",
    "            mpool = Metabolite(eid, formula = eformula, charge = echarge, name = ename, compartment = 'pool')\n",
    "            pool_mets.append(mpool)            \n",
    "\n",
    "        return pool_mets, balance_conflicts   \n",
    "\n",
    "    def _build_pool_reactions(self, pool_bounds = (-1000,1000)):\n",
    "        \"\"\" Builds community exchange reactions to ad to the community model. \n",
    "            Default reaction bounds are set as (-1000,1000) for each community exchange reaction.\"\"\"\n",
    "        \n",
    "        \n",
    "        cmodel = self.cmodel\n",
    "        pool_mets = self.pool_mets\n",
    "        \n",
    "        pool_rxns = list()\n",
    "        # One exchange reaction for each pool metabolite. \n",
    "        for mid in pool_mets:\n",
    "            m = self.cmodel.metabolites.get_by_id(mid)\n",
    "            ex_rxn = Reaction(\n",
    "                id   = \"EX_%s\" % m.id,\n",
    "                name = \"Pool %s exchange\" % m.name,\n",
    "                subsystem = \"Exchange\",\n",
    "                lower_bound = pool_bounds[0],\n",
    "                upper_bound = pool_bounds[1],\n",
    "                objective_coefficient = 0.0\n",
    "            )\n",
    "            ex_rxn.add_metabolites({m: -1.0})        \n",
    "            pool_rxns.append(ex_rxn)\n",
    "        return pool_rxns\n",
    "\n",
    "    def _add_pool(self,pool_bounds = (-1000,1000)):\n",
    "        \"\"\" \n",
    "        Adds pool to community model (including compartment, shared pool mets, pool exchanges\n",
    "                                      and update of member exchange reactions)\n",
    "         By default pool exchanges are set with bounds (-1000,1000)\n",
    "         Exchange metabolites with same id but different formulas, charges or names among members are stored\n",
    "         in conflicts along with these values.        \n",
    "        \"\"\"\n",
    "        cmodel =self.cmodel\n",
    "        ex_mets = self.ex_mets\n",
    "        \n",
    "        compartments = cmodel.compartments\n",
    "        compartments['pool']=\"Community pool\"\n",
    "\n",
    "\n",
    "        #list of pool metabolites to add and conflict report dict\n",
    "        pool_mets, conflicts = self._build_pool_metabolites()\n",
    "        self.conflicts = conflicts\n",
    "\n",
    "        #adding pool metabolites to community model    \n",
    "        cmodel.add_metabolites(pool_mets) \n",
    "        self.pool_mets= [m.id for m in pool_mets]\n",
    "        #cmodel.repair()\n",
    "\n",
    "        #list of exchange reactions to add for each pool metabolite\n",
    "        pool_exchange_reactions = self._build_pool_reactions(pool_bounds)    \n",
    "\n",
    "        #updating original exchange reactions from member models:\n",
    "        # from met_e:model1 <--> to met_e:model1 <--> met_e:pool\n",
    "        member_exchanges = self.member_exchanges\n",
    "        for ex_dict in member_exchanges:\n",
    "            for ex_id in ex_dict:\n",
    "                ex = cmodel.reactions.get_by_id(ex_id)\n",
    "                for mex in ex.metabolites:\n",
    "                    coeff =  ex.metabolites[mex]\n",
    "                    mpool_id = \"%s:pool\" % ex_mets[mex.id]\n",
    "                    mpool = cmodel.metabolites.get_by_id(mpool_id)\n",
    "                    ex.add_metabolites({mpool: -coeff})\n",
    "               \n",
    "        #adding exchange reactions to community model\n",
    "        cmodel.add_reactions(pool_exchange_reactions)\n",
    "\n",
    "        #updating compartment names:\n",
    "        cmodel.compartments = compartments\n",
    "           \n",
    "        #storing pool exchange reactions:\n",
    "        self.pool_reactions = [r.id for r in pool_exchange_reactions]\n",
    "    \n",
    "    def set_medium(self, exchange_bounds):\n",
    "        for rid in exchange_bounds:\n",
    "            pool_exchange_reaction = self.cmodel.reactions.get_by_id(rid)\n",
    "            pool_exchange_reaction.bounds = exchange_bounds[rid]\n",
    "            \n",
    "    def _to_vlp(self,**kwargs):        \n",
    "        \"\"\"Returns a vlp problem from EcosystemModel\"\"\"\n",
    "        # We are using bensolve-2.0.1:\n",
    "        # B is coefficient matrix\n",
    "        # P is objective Matrix\n",
    "        # a is lower bounds for B\n",
    "        # b is upper bounds for B\n",
    "        # l is lower bounds of variables\n",
    "        # s is upper bounds of variables\n",
    "        # opt_dir is direction: 1 min, -1 max\n",
    "        # Y,Z and c are part of cone definition. If empty => MOLP\n",
    "        \n",
    "        cmodel = self.cmodel\n",
    "        Ssigma = create_stoichiometric_matrix(cmodel, array_type=\"lil\")\n",
    "        \n",
    "        vlp = vlpProblem(**kwargs)\n",
    "        m, n = Ssigma.shape # mets, reactions\n",
    "        q = self.size # number of members \n",
    "        vlp.B = Ssigma\n",
    "        vlp.a = np.zeros((1, m))[0]\n",
    "        vlp.b = np.zeros((1, m))[0]\n",
    "        vlp.l = [r.lower_bound for r in cmodel.reactions] \n",
    "        vlp.s = [r.upper_bound for r in cmodel.reactions] \n",
    "        \n",
    "        \n",
    "        vlp.P = lil_matrix((q, n))\n",
    "        vlp.opt_dir = -1\n",
    "        \n",
    "        for i, member_objectives in enumerate(self.objectives):\n",
    "            for rid, coeff in member_objectives.items():\n",
    "                rindex = cmodel.reactions.index(rid)\n",
    "                vlp.P[i,rindex] = coeff \n",
    "                \n",
    "        vlp.Y = None\n",
    "        vlp.Z = None\n",
    "        vlp.c = None\n",
    "        return vlp  \n",
    "    \n",
    "    def mo_fba(self,**kwards):\n",
    "        vlp_eco = self._to_vlp(**kwards)\n",
    "        self.mo_fba_sol = bensolve(vlp_eco)\n",
    "    \n",
    "    def get_polytope_vertex(self):\n",
    "  \n",
    "        \"\"\"\n",
    "        polytope: pareto front + axes segments + extra segments perpendicular to axes dimensions where \n",
    "        pareto solutions don't reach 0 values. \n",
    "        (assumption: objective functions can only take positive values)\n",
    "        \"\"\"\n",
    "        \n",
    "        #1. Front vertex:\n",
    "        vv = self.mo_fba_sol.Primal.vertex_value[np.array(self.mo_fba_sol.Primal.vertex_type)==1]\n",
    "        #2. origin\n",
    "        ov = np.zeros((1,self.size))\n",
    "        \n",
    "         \n",
    "        #3. Extra points that close polytope (only if points (0,0,0,...,xi_max,0,...0) are not pareto front \n",
    "        # points but they are feasible) \n",
    "        \n",
    "        #MP: si hay que incluir estos puntos significa que hay miembros que son givers: i.e. pueden crecer\n",
    "        # a su máxima tasa y aguantar que otros miembros crezcan igual\n",
    "        # si un punto (0,0,0,...,xi_max,0,...0) no es factible entonces el miembro i necesita que otros crezcan \n",
    "        # para poder crecer (needy).\n",
    "        \n",
    "        #3.1 Check if points  (0,0,0,...,xi_max,0,...0) are part of the pareto front\n",
    "        n = self.size - 1\n",
    "        all_zeros_but_one = np.argwhere(np.sum(vv == 0,axis=1)==n) # index of (0,0,...,xi_max,0,0...0) points\n",
    "        all_zeros_but_one = all_zeros_but_one.flatten()\n",
    "\n",
    "        # indexes i of non-zero member in (0,0,...,xi_max,0,0...0) pareto points, \n",
    "        # i.e. members that are not givers nor needy. \n",
    "        non_zero_dims =  np.argmax(vv[all_zeros_but_one,:], axis = 1) \n",
    "        \n",
    "        # givers and/or needy members:\n",
    "        givers_or_needy_indexes = np.setdiff1d(np.array(range(self.size)), non_zero_dims) \n",
    "        gn_total= len(givers_or_needy_indexes)    \n",
    "    \n",
    "        #3.2 Check if non-pareto points (0,0,0,...,xi_max,0,...0) are feasible \n",
    "        if gn_total >0:\n",
    "            # max values for giver_or_needy members:\n",
    "            max_vals = np.max(vv, axis=0)\n",
    "            cpoints = np.diag(max_vals)\n",
    "            to_check = cpoints[givers_or_needy_indexes,:]\n",
    "            \n",
    "            are_feasible = self.check_feasible(to_check)\n",
    "            \n",
    "            ev = to_check[are_feasible,:] \n",
    "            polytope_vertex = np.concatenate((vv,pv,ev), axis=0)\n",
    "        else: \n",
    "            polytope_vertex = np.concatenate((vv,pv), axis=0)\n",
    "                     \n",
    "        return polytope_vertex \n",
    "    \n",
    "    def check_feasible(self, point_array):\n",
    "        r = [self.check_feasible_point(p) for p in point_array] \n",
    "        return r\n",
    "               \n",
    "    def check_feasible_point(self,point):\n",
    "        cmodel = self.cmodel\n",
    "        \n",
    "        original_bounds = dict()\n",
    "        original_community_objective =  cmodel.objective\n",
    "        \n",
    "        for ix, member_objectives in enumerate(self.objectives):    \n",
    "            if len(member_objectives) != 1:\n",
    "                raise RuntimeError(\"Warning: More than one reaction in %s objective function. Not supported!!\" \n",
    "                      % self.prefixes[ix])        \n",
    "            #new bounds for member ix objective function reaction:     \n",
    "            new_bounds = (point[ix],point[ix])    \n",
    "                         \n",
    "            #change bounds for each objective reaction and store original bounds\n",
    "            for rid in member_objectives.keys(): # member_objectives should be single key dictionary\n",
    "                rxn = cmodel.reactions.get_by_id(rid)\n",
    "                old_bounds = self.change_reaction_bounds(rid, new_bounds)\n",
    "                original_bounds[rid] = old_bounds \n",
    "            #set one of objective reactions as community objective, e.g. the non-zero one in point\n",
    "                if point[ix]>0:\n",
    "                    cmodel.objective = rid\n",
    "            \n",
    "        #check point feasibility\n",
    "        error_value = -1000\n",
    "        ob = cmodel.slim_optimize(error_value = error_value)\n",
    "        if ob == error_value:\n",
    "            is_feasible = False\n",
    "        else:\n",
    "            is_feasible = True\n",
    "        # return everything as it was originally    \n",
    "        cmodel.objective = original_community_objective   \n",
    "        for rid, old_bounds in original_bounds.items():\n",
    "            nbounds = self.change_reaction_bounds(rid, old_bounds )\n",
    "        \n",
    "        return is_feasible\n",
    "            \n",
    "    def change_reaction_bounds(self, rid, new_bounds):\n",
    "        cmodel = self.cmodel\n",
    "        rxn = cmodel.reactions.get_by_id(rid)\n",
    "        old_bounds = rxn.bounds\n",
    "        rxn.bounds = new_bounds\n",
    "        return old_bounds\n",
    "            \n",
    "    def plot_polytope(self):\n",
    "\n",
    "       # from matplotlib.tri import triangulation\n",
    "       # from scipy.spatial import ConvexHull\n",
    "       # \n",
    "       # # compute the convex hull of the points\n",
    "       # cvx = ConvexHull(X)\n",
    "       # \n",
    "       # x, y, z = X.T\n",
    "       # \n",
    "       # # cvx.simplices contains an (nfacets, 3) array specifying the indices of\n",
    "       # # the vertices for each simplical facet\n",
    "       # tri = Triangulation(x, y, triangles=cvx.simplices)\n",
    "       # \n",
    "       # fig = plt.figure()\n",
    "       # ax = fig.gca(projection='3d')\n",
    "       # ax.hold(True)\n",
    "       # ax.plot_trisurf(tri, z)\n",
    "       # ax.plot_wireframe(x, y, z, color='r')\n",
    "       # ax.scatter(x, y, z, color='r')\n",
    "       # plt.draw()    \n",
    "            return\n",
    "    \n",
    "    def build_grid(self,step = 0.1):\n",
    "        \n",
    "        #polytope vertex\n",
    "        polytope_vertex = self.get_polytope_vertex()\n",
    "        \n",
    "        #polytope from vertex\n",
    "        hull = Delaunay(polytope_vertex)\n",
    "        \n",
    "        # \"rectangular\" grid\n",
    "        maxs = np.max(polytope_vertex, axis=1)\n",
    "        mins = np.min(polytope_vertex, axis=1) #should be vector of zeros\n",
    "        size = self.size\n",
    "        \n",
    "        \n",
    "        slices = [slice(mins[i],maxs[i],step) for i in range(size)]\n",
    "        rgrid = np.mgrid[slices]\n",
    "        rgrid2columns = [rgrid[i,:].ravel() for i in range(size)]\n",
    "        # array of grid points (x,y,z,...)\n",
    "        positions = np.column_stack(rgrid2columns)\n",
    "        #polytope intersection    \n",
    "        inside = hull.find_simplex(positions)>=0\n",
    "        \n",
    "        # storing grid points inside polytope\n",
    "        self.points = positions[inside] \n",
    "        self.step = step\n",
    "        self.limits = (mins,maxs)\n",
    "    \n",
    "    def get_2D_slice(self, prefixes, fixed_values):\n",
    "        if len(prefixes) != self.size-2:\n",
    "            raise RuntimeError(\"Only two members with non-fixed values required!\")\n",
    "        \n",
    "        to_fix = range(len(prefixes))\n",
    "        closest_values = [self._get_closest_grid_value(prefixes[i],fixed_values[i])for i in to_fix]\n",
    "        fixed_indexes = [self.prefixes.index(x) for x in prefixes]\n",
    "        \n",
    "        \n",
    "        grid_points = self.points\n",
    "        #indices de puntos en grilla donde el valor una dimension es igual a su closest_values\n",
    "        filtered_indexes_list =  [np.where(grid_points[:,fixed_member_indexes[i]] == closest_values[i]) for i in to_fix]\n",
    "        \n",
    "        #interseccion de indices, i.e., indices slice\n",
    "        filtered_indexes =  reduce(np.intersect1d, filtered_indexes_list)\n",
    "        \n",
    "        #slice 2D de la grilla\n",
    "        filtered_points = grid_points[filtered_indexes,:] \n",
    "        slice_points = filtered_points[:, ]\n",
    "\n",
    "        \n",
    "        \n",
    "        \n",
    "    def _get_closest_grid_value(self,prefix,fixed_value):\n",
    "        member_index = self.prefixes.index(prefix)\n",
    "        member_min = self.limits[0][member_index]\n",
    "        member_max = self.limits[1][member_index]\n",
    "        \n",
    "        if fixed_value < member_min or fixed_value > member_max:\n",
    "            raise RuntimeError(\"Value %d for %s out of range\" % (fixed_value, prefix))\n",
    "        \n",
    "        \n",
    "        shifted_value = fixed_value - member_min\n",
    "        n_steps = shifted_value//self.step          \n",
    "        \n",
    "        p1 = n_steps * self.step\n",
    "        p2 = (n_steps + 1) * self.step  \n",
    "        \n",
    "        if (shifted_value - p1) < (p2 - shifted_value):\n",
    "            closest_value = member_min + p1\n",
    "        else:\n",
    "            closest_value = member_min + p2        \n",
    "        \n",
    "        return closest_value\n",
    "    "
   ]
  },
  {
   "cell_type": "markdown",
   "metadata": {},
   "source": [
    "# Tests"
   ]
  },
  {
   "cell_type": "code",
   "execution_count": 40,
   "metadata": {
    "ExecuteTime": {
     "end_time": "2020-03-02T18:55:32.163324Z",
     "start_time": "2020-03-02T18:55:28.749682Z"
    }
   },
   "outputs": [],
   "source": [
    "test_models = list()\n",
    "test_prefixes = list()\n",
    "\n",
    "n_test = 2\n",
    "for i in range(n_test):\n",
    "    model = cobra.test.create_test_model(\"ecoli\")\n",
    "    if i == 1:\n",
    "        r = model.reactions.get_by_id('ACGK')\n",
    "        r.objective_coefficient = 1\n",
    "    mid = 'coli_' + str(i+1)\n",
    "    test_models.append(model)\n",
    "    test_prefixes.append(mid)"
   ]
  },
  {
   "cell_type": "code",
   "execution_count": 41,
   "metadata": {
    "ExecuteTime": {
     "end_time": "2020-03-02T18:55:43.589631Z",
     "start_time": "2020-03-02T18:55:33.283307Z"
    }
   },
   "outputs": [
    {
     "ename": "RuntimeError",
     "evalue": "More than one reaction in coli_2 objective function. Not supported!!\n Set single objective reaction",
     "output_type": "error",
     "traceback": [
      "\u001b[0;31m---------------------------------------------------------------------------\u001b[0m",
      "\u001b[0;31mRuntimeError\u001b[0m                              Traceback (most recent call last)",
      "\u001b[0;32m<ipython-input-41-34e7b60713a3>\u001b[0m in \u001b[0;36m<module>\u001b[0;34m\u001b[0m\n\u001b[0;32m----> 1\u001b[0;31m \u001b[0mtest_eco\u001b[0m \u001b[0;34m=\u001b[0m \u001b[0mEcosystem\u001b[0m\u001b[0;34m(\u001b[0m\u001b[0mtest_models\u001b[0m\u001b[0;34m,\u001b[0m \u001b[0mtest_prefixes\u001b[0m\u001b[0;34m)\u001b[0m\u001b[0;34m\u001b[0m\u001b[0m\n\u001b[0m",
      "\u001b[0;32m<ipython-input-39-e6b03059ae0d>\u001b[0m in \u001b[0;36m__init__\u001b[0;34m(self, models, prefixes, community_name, community_id, pool_bounds, keep_members, print_report)\u001b[0m\n\u001b[1;32m     40\u001b[0m             \u001b[0;32mif\u001b[0m \u001b[0mlen\u001b[0m\u001b[0;34m(\u001b[0m\u001b[0mmember_lr_coefs\u001b[0m\u001b[0;34m)\u001b[0m \u001b[0;34m!=\u001b[0m \u001b[0;36m1\u001b[0m\u001b[0;34m:\u001b[0m\u001b[0;34m\u001b[0m\u001b[0m\n\u001b[1;32m     41\u001b[0m                 raise RuntimeError(\"More than one reaction in %s objective function. Not supported!!\\n Set single objective reaction\" \n\u001b[0;32m---> 42\u001b[0;31m                       % self.prefixes[ix])\n\u001b[0m\u001b[1;32m     43\u001b[0m             \u001b[0mmember_objectives\u001b[0m \u001b[0;34m=\u001b[0m \u001b[0;34m{\u001b[0m \u001b[0mr\u001b[0m\u001b[0;34m.\u001b[0m\u001b[0mid\u001b[0m\u001b[0;34m:\u001b[0m\u001b[0mcoeff\u001b[0m \u001b[0;32mfor\u001b[0m \u001b[0mr\u001b[0m\u001b[0;34m,\u001b[0m\u001b[0mcoeff\u001b[0m \u001b[0;32min\u001b[0m \u001b[0mmember_lr_coefs\u001b[0m\u001b[0;34m.\u001b[0m\u001b[0mitems\u001b[0m\u001b[0;34m(\u001b[0m\u001b[0;34m)\u001b[0m\u001b[0;34m}\u001b[0m\u001b[0;34m\u001b[0m\u001b[0m\n\u001b[1;32m     44\u001b[0m             \u001b[0mself\u001b[0m\u001b[0;34m.\u001b[0m\u001b[0mobjectives\u001b[0m\u001b[0;34m.\u001b[0m\u001b[0mappend\u001b[0m\u001b[0;34m(\u001b[0m\u001b[0mmember_objectives\u001b[0m\u001b[0;34m)\u001b[0m\u001b[0;34m\u001b[0m\u001b[0m\n",
      "\u001b[0;31mRuntimeError\u001b[0m: More than one reaction in coli_2 objective function. Not supported!!\n Set single objective reaction"
     ]
    }
   ],
   "source": [
    "test_eco = Ecosystem(test_models, test_prefixes)"
   ]
  },
  {
   "cell_type": "code",
   "execution_count": 27,
   "metadata": {
    "ExecuteTime": {
     "end_time": "2020-03-02T18:38:11.228250Z",
     "start_time": "2020-03-02T18:38:11.219702Z"
    }
   },
   "outputs": [
    {
     "data": {
      "text/plain": [
       "[{'coli_1:Ec_biomass_iJO1366_core_53p95M': 1.0},\n",
       " {'coli_2:Ec_biomass_iJO1366_core_53p95M': 1.0, 'coli_2:ACGK': 1.0}]"
      ]
     },
     "execution_count": 27,
     "metadata": {},
     "output_type": "execute_result"
    }
   ],
   "source": [
    "test_eco.objectives"
   ]
  },
  {
   "cell_type": "code",
   "execution_count": 28,
   "metadata": {
    "ExecuteTime": {
     "end_time": "2020-03-02T18:38:29.226032Z",
     "start_time": "2020-03-02T18:38:29.219900Z"
    }
   },
   "outputs": [],
   "source": [
    "test_eco.set_medium({'EX_glc__D_e:pool':(-20, 1000)})"
   ]
  },
  {
   "cell_type": "code",
   "execution_count": 29,
   "metadata": {
    "ExecuteTime": {
     "end_time": "2020-03-02T18:39:21.297663Z",
     "start_time": "2020-03-02T18:39:17.269505Z"
    }
   },
   "outputs": [
    {
     "name": "stdout",
     "output_type": "stream",
     "text": [
      "/var/folders/hv/r4rp10lx5nnc3q1x5ht0cl2w0000gn/T/tmp4258y05f\n",
      "None\n"
     ]
    },
    {
     "name": "stderr",
     "output_type": "stream",
     "text": [
      "/Users/mcortes/anaconda/envs/markopy/lib/python3.6/site-packages/ipykernel_launcher.py:367 \u001b[1;31mUserWarning\u001b[0m: \n",
      "Pre image was not saved, preimage value set to None. Include 'solution':True in problem options dictionary\n"
     ]
    }
   ],
   "source": [
    "bensolve_opts = mocbapy.bensolve_default_options\n",
    "bensolve_opts['message_level'] = 0\n",
    "sol_mofba = test_eco.mo_fba(options=bensolve_opts)\n",
    "print(sol_mofba)"
   ]
  },
  {
   "cell_type": "code",
   "execution_count": 30,
   "metadata": {
    "ExecuteTime": {
     "end_time": "2020-03-02T18:39:46.610333Z",
     "start_time": "2020-03-02T18:39:46.586344Z"
    }
   },
   "outputs": [
    {
     "ename": "AttributeError",
     "evalue": "'NoneType' object has no attribute 'Primal'",
     "output_type": "error",
     "traceback": [
      "\u001b[0;31m---------------------------------------------------------------------------\u001b[0m",
      "\u001b[0;31mAttributeError\u001b[0m                            Traceback (most recent call last)",
      "\u001b[0;32m<ipython-input-30-3e217f2e6825>\u001b[0m in \u001b[0;36m<module>\u001b[0;34m\u001b[0m\n\u001b[0;32m----> 1\u001b[0;31m \u001b[0mvv\u001b[0m \u001b[0;34m=\u001b[0m \u001b[0msol_mofba\u001b[0m\u001b[0;34m.\u001b[0m\u001b[0mPrimal\u001b[0m\u001b[0;34m.\u001b[0m\u001b[0mvertex_value\u001b[0m\u001b[0;34m[\u001b[0m\u001b[0mnp\u001b[0m\u001b[0;34m.\u001b[0m\u001b[0marray\u001b[0m\u001b[0;34m(\u001b[0m\u001b[0msol_mofba\u001b[0m\u001b[0;34m.\u001b[0m\u001b[0mPrimal\u001b[0m\u001b[0;34m.\u001b[0m\u001b[0mvertex_type\u001b[0m\u001b[0;34m)\u001b[0m\u001b[0;34m==\u001b[0m\u001b[0;36m1\u001b[0m\u001b[0;34m]\u001b[0m\u001b[0;34m\u001b[0m\u001b[0m\n\u001b[0m",
      "\u001b[0;31mAttributeError\u001b[0m: 'NoneType' object has no attribute 'Primal'"
     ]
    }
   ],
   "source": [
    "vv = sol_mofba.Primal.vertex_value[np.array(sol_mofba.Primal.vertex_type)==1]"
   ]
  },
  {
   "cell_type": "code",
   "execution_count": 62,
   "metadata": {
    "ExecuteTime": {
     "end_time": "2020-03-03T21:16:51.301316Z",
     "start_time": "2020-03-03T21:16:51.291331Z"
    }
   },
   "outputs": [
    {
     "data": {
      "text/plain": [
       "array([3, 4])"
      ]
     },
     "execution_count": 62,
     "metadata": {},
     "output_type": "execute_result"
    }
   ],
   "source": [
    "reduce(np.intersect1d, [[1, 3, 4, 3], [3, 1, 4, 1], [6, 3, 4, 2]])"
   ]
  },
  {
   "cell_type": "code",
   "execution_count": 37,
   "metadata": {
    "ExecuteTime": {
     "end_time": "2020-03-02T18:42:32.791132Z",
     "start_time": "2020-03-02T18:42:32.782158Z"
    }
   },
   "outputs": [
    {
     "data": {
      "text/plain": [
       "array([[  0.98237181, 101.74      ],\n",
       "       [ -1.        ,   0.        ],\n",
       "       [  0.        ,  -1.        ]])"
      ]
     },
     "execution_count": 37,
     "metadata": {},
     "output_type": "execute_result"
    }
   ],
   "source": [
    "test_eco.vlp.Primal.vertex_value"
   ]
  },
  {
   "cell_type": "code",
   "execution_count": 38,
   "metadata": {
    "ExecuteTime": {
     "end_time": "2020-03-02T18:43:22.843066Z",
     "start_time": "2020-03-02T18:43:22.834757Z"
    }
   },
   "outputs": [
    {
     "data": {
      "text/plain": [
       "[{'coli_1:Ec_biomass_iJO1366_core_53p95M': 1.0},\n",
       " {'coli_2:Ec_biomass_iJO1366_core_53p95M': 1.0, 'coli_2:ACGK': 1.0}]"
      ]
     },
     "execution_count": 38,
     "metadata": {},
     "output_type": "execute_result"
    }
   ],
   "source": [
    "test_eco.objectives"
   ]
  },
  {
   "cell_type": "code",
   "execution_count": 42,
   "metadata": {
    "ExecuteTime": {
     "end_time": "2020-03-03T20:46:35.741060Z",
     "start_time": "2020-03-03T20:46:35.677597Z"
    }
   },
   "outputs": [],
   "source": [
    "maxs = np.array([3.33,4.4,5.5])\n",
    "mins = np.array([0,0,0])\n",
    "size = 3\n",
    "step=0.5\n",
    "\n",
    "slices = [slice(mins[i],maxs[i],step) for i in range(size)]\n",
    "rgrid = np.mgrid[slices]\n",
    "rgrid2columns = [rgrid[i,:].ravel() for i in range(size)]\n",
    "positions = np.column_stack(rgrid2columns)\n",
    "\n"
   ]
  },
  {
   "cell_type": "code",
   "execution_count": 43,
   "metadata": {
    "ExecuteTime": {
     "end_time": "2020-03-03T20:46:40.384309Z",
     "start_time": "2020-03-03T20:46:40.357303Z"
    }
   },
   "outputs": [
    {
     "data": {
      "text/plain": [
       "(693, 3)"
      ]
     },
     "execution_count": 43,
     "metadata": {},
     "output_type": "execute_result"
    }
   ],
   "source": [
    "positions.shape"
   ]
  },
  {
   "cell_type": "code",
   "execution_count": 44,
   "metadata": {
    "ExecuteTime": {
     "end_time": "2020-03-03T20:52:44.053233Z",
     "start_time": "2020-03-03T20:52:44.026317Z"
    }
   },
   "outputs": [
    {
     "data": {
      "text/plain": [
       "array([[0. , 0. , 0. ],\n",
       "       [0. , 0. , 0.5],\n",
       "       [0. , 0. , 1. ],\n",
       "       ...,\n",
       "       [3. , 4. , 4. ],\n",
       "       [3. , 4. , 4.5],\n",
       "       [3. , 4. , 5. ]])"
      ]
     },
     "execution_count": 44,
     "metadata": {},
     "output_type": "execute_result"
    }
   ],
   "source": [
    "positions"
   ]
  },
  {
   "cell_type": "code",
   "execution_count": 55,
   "metadata": {
    "ExecuteTime": {
     "end_time": "2020-03-03T20:57:56.445262Z",
     "start_time": "2020-03-03T20:57:56.439978Z"
    }
   },
   "outputs": [],
   "source": [
    "x = np.where((positions[:,0]==2) & (positions[:,1]==4))"
   ]
  },
  {
   "cell_type": "code",
   "execution_count": 56,
   "metadata": {
    "ExecuteTime": {
     "end_time": "2020-03-03T20:58:01.355476Z",
     "start_time": "2020-03-03T20:58:01.344995Z"
    }
   },
   "outputs": [
    {
     "data": {
      "text/plain": [
       "array([[[2. , 4. , 0. ],\n",
       "        [2. , 4. , 0.5],\n",
       "        [2. , 4. , 1. ],\n",
       "        [2. , 4. , 1.5],\n",
       "        [2. , 4. , 2. ],\n",
       "        [2. , 4. , 2.5],\n",
       "        [2. , 4. , 3. ],\n",
       "        [2. , 4. , 3.5],\n",
       "        [2. , 4. , 4. ],\n",
       "        [2. , 4. , 4.5],\n",
       "        [2. , 4. , 5. ]]])"
      ]
     },
     "execution_count": 56,
     "metadata": {},
     "output_type": "execute_result"
    }
   ],
   "source": [
    "positions[x,:]"
   ]
  },
  {
   "cell_type": "code",
   "execution_count": 64,
   "metadata": {
    "ExecuteTime": {
     "end_time": "2020-03-03T21:23:05.801450Z",
     "start_time": "2020-03-03T21:23:05.782175Z"
    }
   },
   "outputs": [
    {
     "ename": "TypeError",
     "evalue": "list indices must be integers or slices, not list",
     "output_type": "error",
     "traceback": [
      "\u001b[0;31m---------------------------------------------------------------------------\u001b[0m",
      "\u001b[0;31mTypeError\u001b[0m                                 Traceback (most recent call last)",
      "\u001b[0;32m<ipython-input-64-3aa822eebc98>\u001b[0m in \u001b[0;36m<module>\u001b[0;34m\u001b[0m\n\u001b[1;32m      1\u001b[0m \u001b[0ms\u001b[0m \u001b[0;34m=\u001b[0m \u001b[0;34m[\u001b[0m\u001b[0;34m'a'\u001b[0m\u001b[0;34m,\u001b[0m\u001b[0;34m'b'\u001b[0m\u001b[0;34m,\u001b[0m\u001b[0;34m'c'\u001b[0m\u001b[0;34m,\u001b[0m\u001b[0;34m'd'\u001b[0m\u001b[0;34m]\u001b[0m\u001b[0;34m\u001b[0m\u001b[0m\n\u001b[0;32m----> 2\u001b[0;31m \u001b[0ms\u001b[0m\u001b[0;34m[\u001b[0m\u001b[0;34m[\u001b[0m\u001b[0;34m-\u001b[0m\u001b[0;36m3\u001b[0m\u001b[0;34m,\u001b[0m\u001b[0;34m-\u001b[0m\u001b[0;36m2\u001b[0m\u001b[0;34m]\u001b[0m\u001b[0;34m]\u001b[0m\u001b[0;34m\u001b[0m\u001b[0m\n\u001b[0m",
      "\u001b[0;31mTypeError\u001b[0m: list indices must be integers or slices, not list"
     ]
    }
   ],
   "source": [
    "s = ['a','b','c','d']\n",
    "s[[-3,-2]]"
   ]
  },
  {
   "cell_type": "code",
   "execution_count": null,
   "metadata": {},
   "outputs": [],
   "source": []
  }
 ],
 "metadata": {
  "hide_input": false,
  "kernelspec": {
   "display_name": "paretoEnv",
   "language": "python",
   "name": "paretoenv"
  },
  "language_info": {
   "codemirror_mode": {
    "name": "ipython",
    "version": 3
   },
   "file_extension": ".py",
   "mimetype": "text/x-python",
   "name": "python",
   "nbconvert_exporter": "python",
   "pygments_lexer": "ipython3",
   "version": "3.6.1"
  }
 },
 "nbformat": 4,
 "nbformat_minor": 2
}
